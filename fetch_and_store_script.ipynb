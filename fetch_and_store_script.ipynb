{
 "cells": [
  {
   "cell_type": "code",
   "execution_count": 14,
   "id": "881b19dc",
   "metadata": {},
   "outputs": [],
   "source": [
    "# fetch_edit_counts.py\n",
    "\n",
    "import requests\n",
    "import pandas as pd\n",
    "\n",
    "def fetch_edit_counts(\n",
    "    project: str,\n",
    "    start: str = \"20200101\",\n",
    "    end: str = \"20240101\",\n",
    "    editor_type: str = \"all-editor-types\",\n",
    "    page_type: str = \"content\",\n",
    "    granularity: str = \"monthly\"\n",
    ") -> pd.DataFrame:\n",
    "    \"\"\"\n",
    "    Fetches edit count data for a given Wikimedia project and returns a DataFrame.\n",
    "\n",
    "    Parameters:\n",
    "        project (str): The project domain, e.g., 'uz.wikipedia.org'\n",
    "        start (str): Start date in YYYYMMDD format\n",
    "        end (str): End date in YYYYMMDD format\n",
    "        editor_type (str): Type of editor (default: all-editor-types)\n",
    "        page_type (str): Page content type (default: content)\n",
    "        granularity (str): Time granularity (default: monthly)\n",
    "\n",
    "    Returns:\n",
    "        pd.DataFrame: A dataframe with columns: timestamp, edit_count, project\n",
    "    \"\"\"\n",
    "    base_url = \"https://wikimedia.org/api/rest_v1/metrics/edits/aggregate\"\n",
    "    url = f\"{base_url}/{project}/{editor_type}/{page_type}/{granularity}/{start}/{end}\"\n",
    "\n",
    "    response = requests.get(url)\n",
    "    if response.status_code != 200:\n",
    "        raise Exception(f\"API Error: {response.status_code} - {response.text}\")\n",
    "\n",
    "    data = response.json()\n",
    "    edit_counts = data[\"items\"][0][\"results\"]\n",
    "\n",
    "    df = pd.DataFrame(edit_counts)\n",
    "    df['timestamp'] = pd.to_datetime(df['timestamp'], utc=True)\n",
    "    df.rename(columns={'edits': 'edit_count'}, inplace=True)\n",
    "    df['project'] = project\n",
    "\n",
    "    return df\n"
   ]
  },
  {
   "cell_type": "code",
   "execution_count": 15,
   "id": "c4bf7ebf",
   "metadata": {},
   "outputs": [
    {
     "name": "stdout",
     "output_type": "stream",
     "text": [
      "                  timestamp  edit_count           project\n",
      "0 2020-01-01 00:00:00+00:00        1673  uz.wikipedia.org\n",
      "1 2020-02-01 00:00:00+00:00        3103  uz.wikipedia.org\n",
      "2 2020-03-01 00:00:00+00:00        5267  uz.wikipedia.org\n",
      "3 2020-04-01 00:00:00+00:00        5757  uz.wikipedia.org\n",
      "4 2020-05-01 00:00:00+00:00        3507  uz.wikipedia.org\n"
     ]
    }
   ],
   "source": [
    "#from fetch_edit_counts import fetch_edit_counts\n",
    "\n",
    "df = fetch_edit_counts(\"uz.wikipedia.org\")\n",
    "print(df.head())\n"
   ]
  },
  {
   "cell_type": "code",
   "execution_count": null,
   "id": "c43d335f",
   "metadata": {},
   "outputs": [],
   "source": []
  },
  {
   "cell_type": "code",
   "execution_count": null,
   "id": "568193b0",
   "metadata": {},
   "outputs": [],
   "source": []
  }
 ],
 "metadata": {
  "kernelspec": {
   "display_name": "Python 3 (ipykernel)",
   "language": "python",
   "name": "python3"
  },
  "language_info": {
   "codemirror_mode": {
    "name": "ipython",
    "version": 3
   },
   "file_extension": ".py",
   "mimetype": "text/x-python",
   "name": "python",
   "nbconvert_exporter": "python",
   "pygments_lexer": "ipython3",
   "version": "3.11.5"
  }
 },
 "nbformat": 4,
 "nbformat_minor": 5
}
